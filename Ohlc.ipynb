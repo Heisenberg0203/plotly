{
 "cells": [
  {
   "cell_type": "code",
   "execution_count": 4,
   "metadata": {},
   "outputs": [],
   "source": [
    "import plotly as py\n",
    "import plotly.graph_objs as go\n",
    "import numpy as np\n",
    "from datetime import datetime"
   ]
  },
  {
   "cell_type": "markdown",
   "metadata": {},
   "source": [
    "### Stock market:-\n",
    "\n",
    "1. open_data = opening value\n",
    "\n",
    "2. high data = highest value\n",
    "\n",
    "3. low data = lowest value\n",
    "\n",
    "4. close_data = closing value"
   ]
  },
  {
   "cell_type": "code",
   "execution_count": 5,
   "metadata": {},
   "outputs": [],
   "source": [
    "open_data = [33.0, 33.3, 33.5, 33.0, 34.1]\n",
    "high_data = [33.1, 33.3, 33.6, 33.2, 34.8]\n",
    "low_data = [32.7, 32.7, 32.8, 32.6, 32.8]\n",
    "close_data = [33.0, 32.9, 33.3, 33.1, 33.1]"
   ]
  },
  {
   "cell_type": "code",
   "execution_count": 6,
   "metadata": {},
   "outputs": [],
   "source": [
    "dates = [datetime(year=2013, month=10, day=10),\n",
    "         datetime(year=2013, month=11, day=10),\n",
    "         datetime(year=2013, month=12, day=10),\n",
    "         datetime(year=2014, month=1, day=10),\n",
    "         datetime(year=2014, month=2, day=10)]\n"
   ]
  },
  {
   "cell_type": "code",
   "execution_count": 10,
   "metadata": {},
   "outputs": [],
   "source": [
    "trace = go.Ohlc(x=dates,\n",
    "                open=open_data,\n",
    "                high=high_data,\n",
    "                low=low_data,\n",
    "                close=close_data)"
   ]
  },
  {
   "cell_type": "code",
   "execution_count": 11,
   "metadata": {},
   "outputs": [
    {
     "data": {
      "text/html": [
       "<script>requirejs.config({paths: { 'plotly': ['https://cdn.plot.ly/plotly-latest.min']},});if(!window.Plotly) {{require(['plotly'],function(plotly) {window.Plotly=plotly;});}}</script>"
      ],
      "text/vnd.plotly.v1+html": [
       "<script>requirejs.config({paths: { 'plotly': ['https://cdn.plot.ly/plotly-latest.min']},});if(!window.Plotly) {{require(['plotly'],function(plotly) {window.Plotly=plotly;});}}</script>"
      ]
     },
     "metadata": {},
     "output_type": "display_data"
    },
    {
     "data": {
      "application/vnd.plotly.v1+json": {
       "data": [
        {
         "close": [
          33,
          32.9,
          33.3,
          33.1,
          33.1
         ],
         "high": [
          33.1,
          33.3,
          33.6,
          33.2,
          34.8
         ],
         "low": [
          32.7,
          32.7,
          32.8,
          32.6,
          32.8
         ],
         "open": [
          33,
          33.3,
          33.5,
          33,
          34.1
         ],
         "type": "ohlc",
         "x": [
          "2013-10-09 18:30:00",
          "2013-11-09 18:30:00",
          "2013-12-09 18:30:00",
          "2014-01-09 18:30:00",
          "2014-02-09 18:30:00"
         ]
        }
       ],
       "layout": {}
      },
      "text/html": [
       "<div id=\"fdb3b391-7678-4b34-b3fe-52242f61cde4\" style=\"height: 525px; width: 100%;\" class=\"plotly-graph-div\"></div><script type=\"text/javascript\">require([\"plotly\"], function(Plotly) { window.PLOTLYENV=window.PLOTLYENV || {};window.PLOTLYENV.BASE_URL=\"https://plot.ly\";Plotly.newPlot(\"fdb3b391-7678-4b34-b3fe-52242f61cde4\", [{\"type\": \"ohlc\", \"x\": [\"2013-10-09 18:30:00\", \"2013-11-09 18:30:00\", \"2013-12-09 18:30:00\", \"2014-01-09 18:30:00\", \"2014-02-09 18:30:00\"], \"open\": [33.0, 33.3, 33.5, 33.0, 34.1], \"high\": [33.1, 33.3, 33.6, 33.2, 34.8], \"low\": [32.7, 32.7, 32.8, 32.6, 32.8], \"close\": [33.0, 32.9, 33.3, 33.1, 33.1]}], {}, {\"showLink\": true, \"linkText\": \"Export to plot.ly\"})});</script>"
      ],
      "text/vnd.plotly.v1+html": [
       "<div id=\"fdb3b391-7678-4b34-b3fe-52242f61cde4\" style=\"height: 525px; width: 100%;\" class=\"plotly-graph-div\"></div><script type=\"text/javascript\">require([\"plotly\"], function(Plotly) { window.PLOTLYENV=window.PLOTLYENV || {};window.PLOTLYENV.BASE_URL=\"https://plot.ly\";Plotly.newPlot(\"fdb3b391-7678-4b34-b3fe-52242f61cde4\", [{\"type\": \"ohlc\", \"x\": [\"2013-10-09 18:30:00\", \"2013-11-09 18:30:00\", \"2013-12-09 18:30:00\", \"2014-01-09 18:30:00\", \"2014-02-09 18:30:00\"], \"open\": [33.0, 33.3, 33.5, 33.0, 34.1], \"high\": [33.1, 33.3, 33.6, 33.2, 34.8], \"low\": [32.7, 32.7, 32.8, 32.6, 32.8], \"close\": [33.0, 32.9, 33.3, 33.1, 33.1]}], {}, {\"showLink\": true, \"linkText\": \"Export to plot.ly\"})});</script>"
      ]
     },
     "metadata": {},
     "output_type": "display_data"
    }
   ],
   "source": [
    "data = [trace]\n",
    "py.offline.init_notebook_mode(connected=True)\n",
    "py.offline.iplot(data, filename='ohlc_datetime')"
   ]
  },
  {
   "cell_type": "code",
   "execution_count": null,
   "metadata": {},
   "outputs": [],
   "source": []
  }
 ],
 "metadata": {
  "kernelspec": {
   "display_name": "Python 3",
   "language": "python",
   "name": "python3"
  },
  "language_info": {
   "codemirror_mode": {
    "name": "ipython",
    "version": 3
   },
   "file_extension": ".py",
   "mimetype": "text/x-python",
   "name": "python",
   "nbconvert_exporter": "python",
   "pygments_lexer": "ipython3",
   "version": "3.6.4"
  }
 },
 "nbformat": 4,
 "nbformat_minor": 2
}
